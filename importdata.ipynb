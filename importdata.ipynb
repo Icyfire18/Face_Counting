{
  "nbformat": 4,
  "nbformat_minor": 0,
  "metadata": {
    "colab": {
      "name": "importdata.ipynb",
      "provenance": [],
      "authorship_tag": "ABX9TyMh9MR5iEORHqezUBfBmpeL",
      "include_colab_link": true
    },
    "kernelspec": {
      "name": "python3",
      "display_name": "Python 3"
    },
    "accelerator": "GPU"
  },
  "cells": [
    {
      "cell_type": "markdown",
      "metadata": {
        "id": "view-in-github",
        "colab_type": "text"
      },
      "source": [
        "<a href=\"https://colab.research.google.com/github/Icyfire18/Face_Counting/blob/master/importdata.ipynb\" target=\"_parent\"><img src=\"https://colab.research.google.com/assets/colab-badge.svg\" alt=\"Open In Colab\"/></a>"
      ]
    },
    {
      "cell_type": "code",
      "metadata": {
        "id": "JeC6dDmceYP9",
        "colab_type": "code",
        "colab": {}
      },
      "source": [
        "import pandas as pd\n",
        "import numpy as np\n",
        "import matplotlib.pyplot as plt\n",
        "from keras.models import Sequential, Model, model_from_json\n",
        "from keras.layers import Dense, Conv2D, Activation, MaxPool2D, Flatten, Dropout, BatchNormalization\n",
        "from keras.utils import np_utils\n",
        "from keras.callbacks import ModelCheckpoint"
      ],
      "execution_count": 7,
      "outputs": []
    },
    {
      "cell_type": "code",
      "metadata": {
        "id": "mIcYyDySDx2D",
        "colab_type": "code",
        "colab": {
          "base_uri": "https://localhost:8080/",
          "height": 151
        },
        "outputId": "f13d051f-2e08-41d4-c1c2-e74d0df7dd1d"
      },
      "source": [
        "!git clone https://github.com/Icyfire18/Face_Counting.git"
      ],
      "execution_count": 4,
      "outputs": [
        {
          "output_type": "stream",
          "text": [
            "Cloning into 'Face_Counting'...\n",
            "remote: Enumerating objects: 7909, done.\u001b[K\n",
            "remote: Counting objects:   0% (1/7909)\u001b[K\rremote: Counting objects:   1% (80/7909)\u001b[K\rremote: Counting objects:   2% (159/7909)\u001b[K\rremote: Counting objects:   3% (238/7909)\u001b[K\rremote: Counting objects:   4% (317/7909)\u001b[K\rremote: Counting objects:   5% (396/7909)\u001b[K\rremote: Counting objects:   6% (475/7909)\u001b[K\rremote: Counting objects:   7% (554/7909)\u001b[K\rremote: Counting objects:   8% (633/7909)\u001b[K\rremote: Counting objects:   9% (712/7909)\u001b[K\rremote: Counting objects:  10% (791/7909)\u001b[K\rremote: Counting objects:  11% (870/7909)\u001b[K\rremote: Counting objects:  12% (950/7909)\u001b[K\rremote: Counting objects:  13% (1029/7909)\u001b[K\rremote: Counting objects:  14% (1108/7909)\u001b[K\rremote: Counting objects:  15% (1187/7909)\u001b[K\rremote: Counting objects:  16% (1266/7909)\u001b[K\rremote: Counting objects:  17% (1345/7909)\u001b[K\rremote: Counting objects:  18% (1424/7909)\u001b[K\rremote: Counting objects:  19% (1503/7909)\u001b[K\rremote: Counting objects:  20% (1582/7909)\u001b[K\rremote: Counting objects:  21% (1661/7909)\u001b[K\rremote: Counting objects:  22% (1740/7909)\u001b[K\rremote: Counting objects:  23% (1820/7909)\u001b[K\rremote: Counting objects:  24% (1899/7909)\u001b[K\rremote: Counting objects:  25% (1978/7909)\u001b[K\rremote: Counting objects:  26% (2057/7909)\u001b[K\rremote: Counting objects:  27% (2136/7909)\u001b[K\rremote: Counting objects:  28% (2215/7909)\u001b[K\rremote: Counting objects:  29% (2294/7909)\u001b[K\rremote: Counting objects:  30% (2373/7909)\u001b[K\rremote: Counting objects:  31% (2452/7909)\u001b[K\rremote: Counting objects:  32% (2531/7909)\u001b[K\rremote: Counting objects:  33% (2610/7909)\u001b[K\rremote: Counting objects:  34% (2690/7909)\u001b[K\rremote: Counting objects:  35% (2769/7909)\u001b[K\rremote: Counting objects:  36% (2848/7909)\u001b[K\rremote: Counting objects:  37% (2927/7909)\u001b[K\rremote: Counting objects:  38% (3006/7909)\u001b[K\rremote: Counting objects:  39% (3085/7909)\u001b[K\rremote: Counting objects:  40% (3164/7909)\u001b[K\rremote: Counting objects:  41% (3243/7909)\u001b[K\rremote: Counting objects:  42% (3322/7909)\u001b[K\rremote: Counting objects:  43% (3401/7909)\u001b[K\rremote: Counting objects:  44% (3480/7909)\u001b[K\rremote: Counting objects:  45% (3560/7909)\u001b[K\rremote: Counting objects:  46% (3639/7909)\u001b[K\rremote: Counting objects:  47% (3718/7909)\u001b[K\rremote: Counting objects:  48% (3797/7909)\u001b[K\rremote: Counting objects:  49% (3876/7909)\u001b[K\rremote: Counting objects:  50% (3955/7909)\u001b[K\rremote: Counting objects:  51% (4034/7909)\u001b[K\rremote: Counting objects:  52% (4113/7909)\u001b[K\rremote: Counting objects:  53% (4192/7909)\u001b[K\rremote: Counting objects:  54% (4271/7909)\u001b[K\rremote: Counting objects:  55% (4350/7909)\u001b[K\rremote: Counting objects:  56% (4430/7909)\u001b[K\rremote: Counting objects:  57% (4509/7909)\u001b[K\rremote: Counting objects:  58% (4588/7909)\u001b[K\rremote: Counting objects:  59% (4667/7909)\u001b[K\rremote: Counting objects:  60% (4746/7909)\u001b[K\rremote: Counting objects:  61% (4825/7909)\u001b[K\rremote: Counting objects:  62% (4904/7909)\u001b[K\rremote: Counting objects:  63% (4983/7909)\u001b[K\rremote: Counting objects:  64% (5062/7909)\u001b[K\rremote: Counting objects:  65% (5141/7909)\u001b[K\rremote: Counting objects:  66% (5220/7909)\u001b[K\rremote: Counting objects:  67% (5300/7909)\u001b[K\rremote: Counting objects:  68% (5379/7909)\u001b[K\rremote: Counting objects:  69% (5458/7909)\u001b[K\rremote: Counting objects:  70% (5537/7909)\u001b[K\rremote: Counting objects:  71% (5616/7909)\u001b[K\rremote: Counting objects:  72% (5695/7909)\u001b[K\rremote: Counting objects:  73% (5774/7909)\u001b[K\rremote: Counting objects:  74% (5853/7909)\u001b[K\rremote: Counting objects:  75% (5932/7909)\u001b[K\rremote: Counting objects:  76% (6011/7909)\u001b[K\rremote: Counting objects:  77% (6090/7909)\u001b[K\rremote: Counting objects:  78% (6170/7909)\u001b[K\rremote: Counting objects:  79% (6249/7909)\u001b[K\rremote: Counting objects:  80% (6328/7909)\u001b[K\rremote: Counting objects:  81% (6407/7909)\u001b[K\rremote: Counting objects:  82% (6486/7909)\u001b[K\rremote: Counting objects:  83% (6565/7909)\u001b[K\rremote: Counting objects:  84% (6644/7909)\u001b[K\rremote: Counting objects:  85% (6723/7909)\u001b[K\rremote: Counting objects:  86% (6802/7909)\u001b[K\rremote: Counting objects:  87% (6881/7909)\u001b[K\rremote: Counting objects:  88% (6960/7909)\u001b[K\rremote: Counting objects:  89% (7040/7909)\u001b[K\rremote: Counting objects:  90% (7119/7909)\u001b[K\rremote: Counting objects:  91% (7198/7909)\u001b[K\rremote: Counting objects:  92% (7277/7909)\u001b[K\rremote: Counting objects:  93% (7356/7909)\u001b[K\rremote: Counting objects:  94% (7435/7909)\u001b[K\rremote: Counting objects:  95% (7514/7909)\u001b[K\rremote: Counting objects:  96% (7593/7909)\u001b[K\rremote: Counting objects:  97% (7672/7909)\u001b[K\rremote: Counting objects:  98% (7751/7909)\u001b[K\rremote: Counting objects:  99% (7830/7909)\u001b[K\rremote: Counting objects: 100% (7909/7909)\u001b[K\rremote: Counting objects: 100% (7909/7909), done.\u001b[K\n",
            "remote: Compressing objects: 100% (7907/7907), done.\u001b[K\n",
            "remote: Total 8229 (delta 2), reused 7903 (delta 1), pack-reused 320\u001b[K\n",
            "Receiving objects: 100% (8229/8229), 379.69 MiB | 37.74 MiB/s, done.\n",
            "Resolving deltas: 100% (9/9), done.\n",
            "Checking out files: 100% (8201/8201), done.\n"
          ],
          "name": "stdout"
        }
      ]
    },
    {
      "cell_type": "code",
      "metadata": {
        "id": "ybcQWiBTeo3Z",
        "colab_type": "code",
        "colab": {
          "base_uri": "https://localhost:8080/",
          "height": 34
        },
        "outputId": "ac90b398-d834-47ad-9a9e-a701ce49edec"
      },
      "source": [
        "!ls"
      ],
      "execution_count": 5,
      "outputs": [
        {
          "output_type": "stream",
          "text": [
            "Face_Counting  sample_data\n"
          ],
          "name": "stdout"
        }
      ]
    },
    {
      "cell_type": "code",
      "metadata": {
        "id": "x3bgFGpSqSzB",
        "colab_type": "code",
        "colab": {
          "base_uri": "https://localhost:8080/",
          "height": 195
        },
        "outputId": "4abf3e8a-6b22-4e2b-a30a-82ebd6a9791d"
      },
      "source": [
        "df = pd.read_csv(\"Face_Counting/bbox_train.csv\")\n",
        "df.head()"
      ],
      "execution_count": 10,
      "outputs": [
        {
          "output_type": "execute_result",
          "data": {
            "text/html": [
              "<div>\n",
              "<style scoped>\n",
              "    .dataframe tbody tr th:only-of-type {\n",
              "        vertical-align: middle;\n",
              "    }\n",
              "\n",
              "    .dataframe tbody tr th {\n",
              "        vertical-align: top;\n",
              "    }\n",
              "\n",
              "    .dataframe thead th {\n",
              "        text-align: right;\n",
              "    }\n",
              "</style>\n",
              "<table border=\"1\" class=\"dataframe\">\n",
              "  <thead>\n",
              "    <tr style=\"text-align: right;\">\n",
              "      <th></th>\n",
              "      <th>Name</th>\n",
              "      <th>width</th>\n",
              "      <th>height</th>\n",
              "      <th>xmin</th>\n",
              "      <th>ymin</th>\n",
              "      <th>xmax</th>\n",
              "      <th>ymax</th>\n",
              "    </tr>\n",
              "  </thead>\n",
              "  <tbody>\n",
              "    <tr>\n",
              "      <th>0</th>\n",
              "      <td>10001.jpg</td>\n",
              "      <td>612</td>\n",
              "      <td>408</td>\n",
              "      <td>192</td>\n",
              "      <td>199</td>\n",
              "      <td>230</td>\n",
              "      <td>235</td>\n",
              "    </tr>\n",
              "    <tr>\n",
              "      <th>1</th>\n",
              "      <td>10001.jpg</td>\n",
              "      <td>612</td>\n",
              "      <td>408</td>\n",
              "      <td>247</td>\n",
              "      <td>168</td>\n",
              "      <td>291</td>\n",
              "      <td>211</td>\n",
              "    </tr>\n",
              "    <tr>\n",
              "      <th>2</th>\n",
              "      <td>10001.jpg</td>\n",
              "      <td>612</td>\n",
              "      <td>408</td>\n",
              "      <td>321</td>\n",
              "      <td>176</td>\n",
              "      <td>366</td>\n",
              "      <td>222</td>\n",
              "    </tr>\n",
              "    <tr>\n",
              "      <th>3</th>\n",
              "      <td>10001.jpg</td>\n",
              "      <td>612</td>\n",
              "      <td>408</td>\n",
              "      <td>355</td>\n",
              "      <td>183</td>\n",
              "      <td>387</td>\n",
              "      <td>214</td>\n",
              "    </tr>\n",
              "    <tr>\n",
              "      <th>4</th>\n",
              "      <td>10002.jpg</td>\n",
              "      <td>612</td>\n",
              "      <td>408</td>\n",
              "      <td>339</td>\n",
              "      <td>165</td>\n",
              "      <td>378</td>\n",
              "      <td>202</td>\n",
              "    </tr>\n",
              "  </tbody>\n",
              "</table>\n",
              "</div>"
            ],
            "text/plain": [
              "        Name  width  height  xmin  ymin  xmax  ymax\n",
              "0  10001.jpg    612     408   192   199   230   235\n",
              "1  10001.jpg    612     408   247   168   291   211\n",
              "2  10001.jpg    612     408   321   176   366   222\n",
              "3  10001.jpg    612     408   355   183   387   214\n",
              "4  10002.jpg    612     408   339   165   378   202"
            ]
          },
          "metadata": {
            "tags": []
          },
          "execution_count": 10
        }
      ]
    },
    {
      "cell_type": "code",
      "metadata": {
        "id": "OEU8OR1mqde-",
        "colab_type": "code",
        "colab": {
          "base_uri": "https://localhost:8080/",
          "height": 195
        },
        "outputId": "c596074e-e8d7-4899-95a2-f1deb08957ac"
      },
      "source": [
        "df = pd.read_csv(\"Face_Counting/train.csv\")\n",
        "df.head()"
      ],
      "execution_count": 11,
      "outputs": [
        {
          "output_type": "execute_result",
          "data": {
            "text/html": [
              "<div>\n",
              "<style scoped>\n",
              "    .dataframe tbody tr th:only-of-type {\n",
              "        vertical-align: middle;\n",
              "    }\n",
              "\n",
              "    .dataframe tbody tr th {\n",
              "        vertical-align: top;\n",
              "    }\n",
              "\n",
              "    .dataframe thead th {\n",
              "        text-align: right;\n",
              "    }\n",
              "</style>\n",
              "<table border=\"1\" class=\"dataframe\">\n",
              "  <thead>\n",
              "    <tr style=\"text-align: right;\">\n",
              "      <th></th>\n",
              "      <th>Name</th>\n",
              "      <th>HeadCount</th>\n",
              "    </tr>\n",
              "  </thead>\n",
              "  <tbody>\n",
              "    <tr>\n",
              "      <th>0</th>\n",
              "      <td>10001.jpg</td>\n",
              "      <td>4</td>\n",
              "    </tr>\n",
              "    <tr>\n",
              "      <th>1</th>\n",
              "      <td>10002.jpg</td>\n",
              "      <td>4</td>\n",
              "    </tr>\n",
              "    <tr>\n",
              "      <th>2</th>\n",
              "      <td>10003.jpg</td>\n",
              "      <td>2</td>\n",
              "    </tr>\n",
              "    <tr>\n",
              "      <th>3</th>\n",
              "      <td>10004.jpg</td>\n",
              "      <td>3</td>\n",
              "    </tr>\n",
              "    <tr>\n",
              "      <th>4</th>\n",
              "      <td>10006.jpg</td>\n",
              "      <td>4</td>\n",
              "    </tr>\n",
              "  </tbody>\n",
              "</table>\n",
              "</div>"
            ],
            "text/plain": [
              "        Name  HeadCount\n",
              "0  10001.jpg          4\n",
              "1  10002.jpg          4\n",
              "2  10003.jpg          2\n",
              "3  10004.jpg          3\n",
              "4  10006.jpg          4"
            ]
          },
          "metadata": {
            "tags": []
          },
          "execution_count": 11
        }
      ]
    }
  ]
}